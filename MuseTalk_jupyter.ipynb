{
  "cells": [
    {
      "cell_type": "markdown",
      "metadata": {
        "id": "view-in-github",
        "colab_type": "text"
      },
      "source": [
        "<a href=\"https://colab.research.google.com/github/souImate/gin/blob/master/MuseTalk_jupyter.ipynb\" target=\"_parent\"><img src=\"https://colab.research.google.com/assets/colab-badge.svg\" alt=\"Open In Colab\"/></a>"
      ]
    },
    {
      "cell_type": "code",
      "execution_count": 12,
      "metadata": {
        "id": "VjYy0F2gZIPR",
        "outputId": "8a5b63cf-3f7d-44f1-84f3-776b38f1e80d",
        "colab": {
          "base_uri": "https://localhost:8080/"
        }
      },
      "outputs": [
        {
          "output_type": "stream",
          "name": "stdout",
          "text": [
            "/content\n",
            "fatal: destination path 'MuseTalk' already exists and is not an empty directory.\n",
            "/content/MuseTalk\n",
            "\u001b[31mERROR: mmcv-2.1.0-cp310-cp310-linux_x86_64.whl is not a supported wheel on this platform.\u001b[0m\u001b[31m\n",
            "\u001b[0maria2 is already the newest version (1.36.0-1).\n",
            "0 upgraded, 0 newly installed, 0 to remove and 29 not upgraded.\n",
            "\n",
            "Download Results:\n",
            "gid   |stat|avg speed  |path/URI\n",
            "======+====+===========+=======================================================\n",
            "962e95|\u001b[1;32mOK\u001b[0m  |       0B/s|/content/MuseTalk/models/dwpose/dw-ll_ucoco.pth\n",
            "\n",
            "Status Legend:\n",
            "(OK):download completed.\n",
            "\n",
            "Download Results:\n",
            "gid   |stat|avg speed  |path/URI\n",
            "======+====+===========+=======================================================\n",
            "67d4d3|\u001b[1;32mOK\u001b[0m  |       0B/s|/content/MuseTalk/models/dwpose/dw-ll_ucoco_384.onnx\n",
            "\n",
            "Status Legend:\n",
            "(OK):download completed.\n",
            "\n",
            "Download Results:\n",
            "gid   |stat|avg speed  |path/URI\n",
            "======+====+===========+=======================================================\n",
            "c695d9|\u001b[1;32mOK\u001b[0m  |       0B/s|/content/MuseTalk/models/dwpose/dw-ll_ucoco_384.pth\n",
            "\n",
            "Status Legend:\n",
            "(OK):download completed.\n",
            "\n",
            "Download Results:\n",
            "gid   |stat|avg speed  |path/URI\n",
            "======+====+===========+=======================================================\n",
            "af55fc|\u001b[1;32mOK\u001b[0m  |       0B/s|/content/MuseTalk/models/dwpose/dw-mm_ucoco.pth\n",
            "\n",
            "Status Legend:\n",
            "(OK):download completed.\n",
            "\n",
            "Download Results:\n",
            "gid   |stat|avg speed  |path/URI\n",
            "======+====+===========+=======================================================\n",
            "0b916d|\u001b[1;32mOK\u001b[0m  |       0B/s|/content/MuseTalk/models/dwpose/dw-ss_ucoco.pth\n",
            "\n",
            "Status Legend:\n",
            "(OK):download completed.\n",
            "\n",
            "Download Results:\n",
            "gid   |stat|avg speed  |path/URI\n",
            "======+====+===========+=======================================================\n",
            "7803c4|\u001b[1;32mOK\u001b[0m  |       0B/s|/content/MuseTalk/models/dwpose/dw-tt_ucoco.pth\n",
            "\n",
            "Status Legend:\n",
            "(OK):download completed.\n",
            "\n",
            "Download Results:\n",
            "gid   |stat|avg speed  |path/URI\n",
            "======+====+===========+=======================================================\n",
            "6db5d5|\u001b[1;32mOK\u001b[0m  |       0B/s|/content/MuseTalk/models/dwpose/rtm-l_ucoco_256-95bb32f5_20230822.pth\n",
            "\n",
            "Status Legend:\n",
            "(OK):download completed.\n",
            "\n",
            "Download Results:\n",
            "gid   |stat|avg speed  |path/URI\n",
            "======+====+===========+=======================================================\n",
            "09cf98|\u001b[1;32mOK\u001b[0m  |       0B/s|/content/MuseTalk/models/dwpose/rtm-x_ucoco_256-05f5bcb7_20230822.pth\n",
            "\n",
            "Status Legend:\n",
            "(OK):download completed.\n",
            "\n",
            "Download Results:\n",
            "gid   |stat|avg speed  |path/URI\n",
            "======+====+===========+=======================================================\n",
            "04df63|\u001b[1;32mOK\u001b[0m  |       0B/s|/content/MuseTalk/models/dwpose/rtm-x_ucoco_384-f5b50679_20230822.pth\n",
            "\n",
            "Status Legend:\n",
            "(OK):download completed.\n",
            "\n",
            "Download Results:\n",
            "gid   |stat|avg speed  |path/URI\n",
            "======+====+===========+=======================================================\n",
            "da6414|\u001b[1;32mOK\u001b[0m  |       0B/s|/content/MuseTalk/models/dwpose/yolox_l.onnx\n",
            "\n",
            "Status Legend:\n",
            "(OK):download completed.\n",
            "\n",
            "Download Results:\n",
            "gid   |stat|avg speed  |path/URI\n",
            "======+====+===========+=======================================================\n",
            "3fa313|\u001b[1;32mOK\u001b[0m  |       0B/s|/content/MuseTalk/models/face-parse-bisent/79999_iter.pth\n",
            "\n",
            "Status Legend:\n",
            "(OK):download completed.\n",
            "\n",
            "Download Results:\n",
            "gid   |stat|avg speed  |path/URI\n",
            "======+====+===========+=======================================================\n",
            "7937ff|\u001b[1;32mOK\u001b[0m  |       0B/s|/content/MuseTalk/models/face-parse-bisent/resnet18-5c106cde.pth\n",
            "\n",
            "Status Legend:\n",
            "(OK):download completed.\n",
            "\n",
            "Download Results:\n",
            "gid   |stat|avg speed  |path/URI\n",
            "======+====+===========+=======================================================\n",
            "0e7b36|\u001b[1;32mOK\u001b[0m  |       0B/s|/content/MuseTalk/models/musetalk/musetalk.json\n",
            "\n",
            "Status Legend:\n",
            "(OK):download completed.\n",
            "\n",
            "Download Results:\n",
            "gid   |stat|avg speed  |path/URI\n",
            "======+====+===========+=======================================================\n",
            "59e036|\u001b[1;32mOK\u001b[0m  |       0B/s|/content/MuseTalk/models/musetalk/pytorch_model.bin\n",
            "\n",
            "Status Legend:\n",
            "(OK):download completed.\n",
            "\n",
            "Download Results:\n",
            "gid   |stat|avg speed  |path/URI\n",
            "======+====+===========+=======================================================\n",
            "3b519a|\u001b[1;32mOK\u001b[0m  |       0B/s|/content/MuseTalk/models/sd-vae-ft-mse/config.json\n",
            "\n",
            "Status Legend:\n",
            "(OK):download completed.\n",
            "\n",
            "Download Results:\n",
            "gid   |stat|avg speed  |path/URI\n",
            "======+====+===========+=======================================================\n",
            "1f2ec2|\u001b[1;32mOK\u001b[0m  |       0B/s|/content/MuseTalk/models/sd-vae-ft-mse/diffusion_pytorch_model.bin\n",
            "\n",
            "Status Legend:\n",
            "(OK):download completed.\n",
            "\n",
            "Download Results:\n",
            "gid   |stat|avg speed  |path/URI\n",
            "======+====+===========+=======================================================\n",
            "82696c|\u001b[1;32mOK\u001b[0m  |       0B/s|/content/MuseTalk/models/sd-vae-ft-mse/diffusion_pytorch_model.safetensors\n",
            "\n",
            "Status Legend:\n",
            "(OK):download completed.\n",
            "\n",
            "Download Results:\n",
            "gid   |stat|avg speed  |path/URI\n",
            "======+====+===========+=======================================================\n",
            "d9b95b|\u001b[1;32mOK\u001b[0m  |       0B/s|/content/MuseTalk/models/whisper/tiny.pt\n",
            "\n",
            "Status Legend:\n",
            "(OK):download completed.\n",
            "error: XDG_RUNTIME_DIR not set in the environment.\n",
            "ALSA lib confmisc.c:855:(parse_card) cannot find card '0'\n",
            "ALSA lib conf.c:5178:(_snd_config_evaluate) function snd_func_card_inum returned error: No such file or directory\n",
            "ALSA lib confmisc.c:422:(snd_func_concat) error evaluating strings\n",
            "ALSA lib conf.c:5178:(_snd_config_evaluate) function snd_func_concat returned error: No such file or directory\n",
            "ALSA lib confmisc.c:1334:(snd_func_refer) error evaluating name\n",
            "ALSA lib conf.c:5178:(_snd_config_evaluate) function snd_func_refer returned error: No such file or directory\n",
            "ALSA lib conf.c:5701:(snd_config_expand) Evaluate error: No such file or directory\n",
            "ALSA lib pcm.c:2664:(snd_pcm_open_noupdate) Unknown PCM default\n",
            "ALSA lib confmisc.c:855:(parse_card) cannot find card '0'\n",
            "ALSA lib conf.c:5178:(_snd_config_evaluate) function snd_func_card_inum returned error: No such file or directory\n",
            "ALSA lib confmisc.c:422:(snd_func_concat) error evaluating strings\n",
            "ALSA lib conf.c:5178:(_snd_config_evaluate) function snd_func_concat returned error: No such file or directory\n",
            "ALSA lib confmisc.c:1334:(snd_func_refer) error evaluating name\n",
            "ALSA lib conf.c:5178:(_snd_config_evaluate) function snd_func_refer returned error: No such file or directory\n",
            "ALSA lib conf.c:5701:(snd_config_expand) Evaluate error: No such file or directory\n",
            "ALSA lib pcm.c:2664:(snd_pcm_open_noupdate) Unknown PCM default\n",
            "Already download the model.\n",
            "please download ffmpeg-static and export to FFMPEG_PATH. \n",
            "For example: export FFMPEG_PATH=/musetalk/ffmpeg-4.4-amd64-static\n",
            "Traceback (most recent call last):\n",
            "  File \"/content/MuseTalk/app.py\", line 118, in <module>\n",
            "    from musetalk.utils.utils import get_file_type,get_video_fps,datagen\n",
            "  File \"/content/MuseTalk/musetalk/utils/utils.py\", line 15, in <module>\n",
            "    from musetalk.models.vae import VAE\n",
            "  File \"/content/MuseTalk/musetalk/models/vae.py\", line 1, in <module>\n",
            "    from diffusers import AutoencoderKL\n",
            "  File \"/usr/local/lib/python3.11/dist-packages/diffusers/__init__.py\", line 5, in <module>\n",
            "    from .utils import (\n",
            "  File \"/usr/local/lib/python3.11/dist-packages/diffusers/utils/__init__.py\", line 38, in <module>\n",
            "    from .dynamic_modules_utils import get_class_from_dynamic_module\n",
            "  File \"/usr/local/lib/python3.11/dist-packages/diffusers/utils/dynamic_modules_utils.py\", line 28, in <module>\n",
            "    from huggingface_hub import cached_download, hf_hub_download, model_info\n",
            "ImportError: cannot import name 'cached_download' from 'huggingface_hub' (/usr/local/lib/python3.11/dist-packages/huggingface_hub/__init__.py)\n"
          ]
        }
      ],
      "source": [
        "%cd /content\n",
        "!git clone https://github.com/camenduru/MuseTalk\n",
        "%cd /content/MuseTalk\n",
        "!export FFMPEG_PATH=/content/ffmpeg/ffmpeg-7.0.2-i686-static\n",
        "\n",
        "\n",
        "!pip install -q diffusers==0.27.2 accelerate==0.28.0 omegaconf ffmpeg-python mmpose mmdet gradio\n",
        "!pip install -q https://github.com/camenduru/wheels/releases/download/colab2/mmcv-2.1.0-cp310-cp310-linux_x86_64.whl\n",
        "\n",
        "!apt -y install -qq aria2\n",
        "!aria2c --console-log-level=error -c -x 16 -s 16 -k 1M https://huggingface.co/camenduru/MuseTalk/resolve/main/dwpose/dw-ll_ucoco.pth -d /content/MuseTalk/models/dwpose -o dw-ll_ucoco.pth\n",
        "!aria2c --console-log-level=error -c -x 16 -s 16 -k 1M https://huggingface.co/camenduru/MuseTalk/resolve/main/dwpose/dw-ll_ucoco_384.onnx -d /content/MuseTalk/models/dwpose -o dw-ll_ucoco_384.onnx\n",
        "!aria2c --console-log-level=error -c -x 16 -s 16 -k 1M https://huggingface.co/camenduru/MuseTalk/resolve/main/dwpose/dw-ll_ucoco_384.pth -d /content/MuseTalk/models/dwpose -o dw-ll_ucoco_384.pth\n",
        "!aria2c --console-log-level=error -c -x 16 -s 16 -k 1M https://huggingface.co/camenduru/MuseTalk/resolve/main/dwpose/dw-mm_ucoco.pth -d /content/MuseTalk/models/dwpose -o dw-mm_ucoco.pth\n",
        "!aria2c --console-log-level=error -c -x 16 -s 16 -k 1M https://huggingface.co/camenduru/MuseTalk/resolve/main/dwpose/dw-ss_ucoco.pth -d /content/MuseTalk/models/dwpose -o dw-ss_ucoco.pth\n",
        "!aria2c --console-log-level=error -c -x 16 -s 16 -k 1M https://huggingface.co/camenduru/MuseTalk/resolve/main/dwpose/dw-tt_ucoco.pth -d /content/MuseTalk/models/dwpose -o dw-tt_ucoco.pth\n",
        "!aria2c --console-log-level=error -c -x 16 -s 16 -k 1M https://huggingface.co/camenduru/MuseTalk/resolve/main/dwpose/rtm-l_ucoco_256-95bb32f5_20230822.pth -d /content/MuseTalk/models/dwpose -o rtm-l_ucoco_256-95bb32f5_20230822.pth\n",
        "!aria2c --console-log-level=error -c -x 16 -s 16 -k 1M https://huggingface.co/camenduru/MuseTalk/resolve/main/dwpose/rtm-x_ucoco_256-05f5bcb7_20230822.pth -d /content/MuseTalk/models/dwpose -o rtm-x_ucoco_256-05f5bcb7_20230822.pth\n",
        "!aria2c --console-log-level=error -c -x 16 -s 16 -k 1M https://huggingface.co/camenduru/MuseTalk/resolve/main/dwpose/rtm-x_ucoco_384-f5b50679_20230822.pth -d /content/MuseTalk/models/dwpose -o rtm-x_ucoco_384-f5b50679_20230822.pth\n",
        "!aria2c --console-log-level=error -c -x 16 -s 16 -k 1M https://huggingface.co/camenduru/MuseTalk/resolve/main/dwpose/yolox_l.onnx -d /content/MuseTalk/models/dwpose -o yolox_l.onnx\n",
        "!aria2c --console-log-level=error -c -x 16 -s 16 -k 1M https://huggingface.co/camenduru/MuseTalk/resolve/main/face-parse-bisent/79999_iter.pth -d /content/MuseTalk/models/face-parse-bisent -o 79999_iter.pth\n",
        "!aria2c --console-log-level=error -c -x 16 -s 16 -k 1M https://huggingface.co/camenduru/MuseTalk/resolve/main/face-parse-bisent/resnet18-5c106cde.pth -d /content/MuseTalk/models/face-parse-bisent -o resnet18-5c106cde.pth\n",
        "!aria2c --console-log-level=error -c -x 16 -s 16 -k 1M https://huggingface.co/camenduru/MuseTalk/raw/main/musetalk/musetalk.json -d /content/MuseTalk/models/musetalk -o musetalk.json\n",
        "!aria2c --console-log-level=error -c -x 16 -s 16 -k 1M https://huggingface.co/camenduru/MuseTalk/resolve/main/musetalk/pytorch_model.bin -d /content/MuseTalk/models/musetalk -o pytorch_model.bin\n",
        "!aria2c --console-log-level=error -c -x 16 -s 16 -k 1M https://huggingface.co/camenduru/MuseTalk/raw/main/sd-vae-ft-mse/config.json -d /content/MuseTalk/models/sd-vae-ft-mse -o config.json\n",
        "!aria2c --console-log-level=error -c -x 16 -s 16 -k 1M https://huggingface.co/camenduru/MuseTalk/resolve/main/sd-vae-ft-mse/diffusion_pytorch_model.bin -d /content/MuseTalk/models/sd-vae-ft-mse -o diffusion_pytorch_model.bin\n",
        "!aria2c --console-log-level=error -c -x 16 -s 16 -k 1M https://huggingface.co/camenduru/MuseTalk/resolve/main/sd-vae-ft-mse/diffusion_pytorch_model.safetensors -d /content/MuseTalk/models/sd-vae-ft-mse -o diffusion_pytorch_model.safetensors\n",
        "!aria2c --console-log-level=error -c -x 16 -s 16 -k 1M https://huggingface.co/camenduru/MuseTalk/resolve/main/whisper/tiny.pt -d /content/MuseTalk/models/whisper -o tiny.pt\n",
        "\n",
        "!python app.py"
      ]
    },
    {
      "cell_type": "code",
      "source": [
        "!echo $FFMPEG_PATH\n"
      ],
      "metadata": {
        "id": "wNn86jrJvOII",
        "outputId": "404de933-9ec7-4895-d910-fce4998a107d",
        "colab": {
          "base_uri": "https://localhost:8080/"
        }
      },
      "execution_count": null,
      "outputs": [
        {
          "output_type": "stream",
          "name": "stdout",
          "text": [
            "\n"
          ]
        }
      ]
    },
    {
      "cell_type": "code",
      "source": [
        "!wget https://johnvansickle.com/ffmpeg/releases/ffmpeg-release-i686-static.tar.xz -P /content/ffmpeg\n"
      ],
      "metadata": {
        "id": "wu1cd_n2ryoF",
        "outputId": "7dcf106b-bf71-4792-aec7-adf46130ca28",
        "colab": {
          "base_uri": "https://localhost:8080/"
        }
      },
      "execution_count": 5,
      "outputs": [
        {
          "output_type": "stream",
          "name": "stdout",
          "text": [
            "--2025-03-05 10:19:40--  https://johnvansickle.com/ffmpeg/releases/ffmpeg-release-i686-static.tar.xz\n",
            "Resolving johnvansickle.com (johnvansickle.com)... 107.180.57.212\n",
            "Connecting to johnvansickle.com (johnvansickle.com)|107.180.57.212|:443... connected.\n",
            "HTTP request sent, awaiting response... 200 OK\n",
            "Length: 18865524 (18M) [application/x-xz]\n",
            "Saving to: ‘/content/ffmpeg/ffmpeg-release-i686-static.tar.xz’\n",
            "\n",
            "ffmpeg-release-i686 100%[===================>]  17.99M  6.63MB/s    in 2.7s    \n",
            "\n",
            "2025-03-05 10:19:44 (6.63 MB/s) - ‘/content/ffmpeg/ffmpeg-release-i686-static.tar.xz’ saved [18865524/18865524]\n",
            "\n"
          ]
        }
      ]
    },
    {
      "cell_type": "code",
      "source": [
        "!tar -xvf /content/ffmpeg/ffmpeg-release-i686-static.tar.xz -C /content/ffmpeg\n"
      ],
      "metadata": {
        "id": "mI2LiKOXuhjK",
        "outputId": "4d1d5a2b-1eb0-4cfb-ec6f-ef9ef78101ea",
        "colab": {
          "base_uri": "https://localhost:8080/"
        }
      },
      "execution_count": 6,
      "outputs": [
        {
          "output_type": "stream",
          "name": "stdout",
          "text": [
            "ffmpeg-7.0.2-i686-static/\n",
            "ffmpeg-7.0.2-i686-static/GPLv3.txt\n",
            "ffmpeg-7.0.2-i686-static/manpages/\n",
            "ffmpeg-7.0.2-i686-static/manpages/ffmpeg-all.txt\n",
            "ffmpeg-7.0.2-i686-static/manpages/ffmpeg-scaler.txt\n",
            "ffmpeg-7.0.2-i686-static/manpages/ffmpeg-resampler.txt\n",
            "ffmpeg-7.0.2-i686-static/manpages/ffmpeg-filters.txt\n",
            "ffmpeg-7.0.2-i686-static/manpages/ffprobe.txt\n",
            "ffmpeg-7.0.2-i686-static/manpages/ffmpeg-devices.txt\n",
            "ffmpeg-7.0.2-i686-static/manpages/ffmpeg-utils.txt\n",
            "ffmpeg-7.0.2-i686-static/manpages/ffmpeg-protocols.txt\n",
            "ffmpeg-7.0.2-i686-static/manpages/ffmpeg-codecs.txt\n",
            "ffmpeg-7.0.2-i686-static/manpages/ffmpeg-bitstream-filters.txt\n",
            "ffmpeg-7.0.2-i686-static/manpages/ffmpeg.txt\n",
            "ffmpeg-7.0.2-i686-static/manpages/ffmpeg-formats.txt\n",
            "ffmpeg-7.0.2-i686-static/ffprobe\n",
            "ffmpeg-7.0.2-i686-static/qt-faststart\n",
            "ffmpeg-7.0.2-i686-static/readme.txt\n",
            "ffmpeg-7.0.2-i686-static/ffmpeg\n"
          ]
        }
      ]
    },
    {
      "cell_type": "code",
      "source": [
        "!export FFMPEG_PATH=/content/ffmpeg/ffmpeg-7.0.2-i686-static\n",
        "\n",
        "!source ~/.bashrc   # 如果你使用的是 Bash\n",
        "!echo $FFMPEG_PATH\n",
        "\n",
        "!echo $SHELL\n"
      ],
      "metadata": {
        "id": "cNHrqNOputtE",
        "outputId": "1afe576e-8885-4fe2-9533-cd41abe60fc1",
        "colab": {
          "base_uri": "https://localhost:8080/"
        }
      },
      "execution_count": 9,
      "outputs": [
        {
          "output_type": "stream",
          "name": "stdout",
          "text": [
            "\n",
            "/bin/bash\n"
          ]
        }
      ]
    },
    {
      "cell_type": "code",
      "source": [
        "!echo 'export FFMPEG_PATH=\"/path/to/ffmpeg\"' >> ~/.bashrc\n",
        "!source ~/.bashrc\n"
      ],
      "metadata": {
        "id": "S-kfvzCXwDX-"
      },
      "execution_count": 10,
      "outputs": []
    },
    {
      "cell_type": "code",
      "source": [
        "!echo $FFMPEG_PATH\n"
      ],
      "metadata": {
        "id": "3AsNUbDuw1hB",
        "outputId": "cd294cad-1de5-4374-8c0c-fa00a3fe7fb5",
        "colab": {
          "base_uri": "https://localhost:8080/"
        }
      },
      "execution_count": 11,
      "outputs": [
        {
          "output_type": "stream",
          "name": "stdout",
          "text": [
            "\n"
          ]
        }
      ]
    },
    {
      "cell_type": "code",
      "source": [
        "%cd /content/ffmpeg/ffmpeg-7.0.2-i686-static\n",
        "!pwd"
      ],
      "metadata": {
        "id": "oUw7wbLX1YCK",
        "outputId": "cbca2e84-eebb-4946-b192-7c1c8c881a6c",
        "colab": {
          "base_uri": "https://localhost:8080/"
        }
      },
      "execution_count": 16,
      "outputs": [
        {
          "output_type": "stream",
          "name": "stdout",
          "text": [
            "/content/ffmpeg/ffmpeg-7.0.2-i686-static\n",
            "/content/ffmpeg/ffmpeg-7.0.2-i686-static\n"
          ]
        }
      ]
    }
  ],
  "metadata": {
    "accelerator": "GPU",
    "colab": {
      "gpuType": "T4",
      "provenance": [],
      "include_colab_link": true
    },
    "kernelspec": {
      "display_name": "Python 3",
      "name": "python3"
    },
    "language_info": {
      "name": "python"
    }
  },
  "nbformat": 4,
  "nbformat_minor": 0
}